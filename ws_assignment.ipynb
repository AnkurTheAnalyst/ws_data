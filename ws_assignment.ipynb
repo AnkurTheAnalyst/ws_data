{
 "cells": [
  {
   "cell_type": "markdown",
   "metadata": {},
   "source": [
    "## Hi, Below is part of my analysis using Python just to showcase the skillset."
   ]
  },
  {
   "cell_type": "markdown",
   "metadata": {},
   "source": [
    "### Importing Libraries that I'll using for Python"
   ]
  },
  {
   "cell_type": "code",
   "execution_count": 1,
   "metadata": {},
   "outputs": [],
   "source": [
    "import pandas as pd\n",
    "import numpy as np\n",
    "import matplotlib.pyplot as plt\n",
    "import seaborn as sns\n",
    "%matplotlib inline"
   ]
  },
  {
   "cell_type": "markdown",
   "metadata": {},
   "source": [
    "### Pulling in the data into Jupyter notebook"
   ]
  },
  {
   "cell_type": "code",
   "execution_count": 2,
   "metadata": {},
   "outputs": [],
   "source": [
    "ws_data = pd.read_excel('C:/Users/aperiwal/Downloads/Wealthsimple - Transfers Data.xlsx')"
   ]
  },
  {
   "cell_type": "markdown",
   "metadata": {},
   "source": [
    "#### Let do some sanity check around the data to get the feel of rows,columns and data within them"
   ]
  },
  {
   "cell_type": "code",
   "execution_count": 3,
   "metadata": {},
   "outputs": [
    {
     "data": {
      "text/html": [
       "<div>\n",
       "<style scoped>\n",
       "    .dataframe tbody tr th:only-of-type {\n",
       "        vertical-align: middle;\n",
       "    }\n",
       "\n",
       "    .dataframe tbody tr th {\n",
       "        vertical-align: top;\n",
       "    }\n",
       "\n",
       "    .dataframe thead th {\n",
       "        text-align: right;\n",
       "    }\n",
       "</style>\n",
       "<table border=\"1\" class=\"dataframe\">\n",
       "  <thead>\n",
       "    <tr style=\"text-align: right;\">\n",
       "      <th></th>\n",
       "      <th>transaction_id</th>\n",
       "      <th>business_unit_product</th>\n",
       "      <th>account_canonical_id</th>\n",
       "      <th>automation_status</th>\n",
       "      <th>error_details</th>\n",
       "      <th>current_status</th>\n",
       "      <th>amount</th>\n",
       "      <th>created_at</th>\n",
       "      <th>completed_at</th>\n",
       "      <th>updated_at</th>\n",
       "      <th>total_time_in_hours</th>\n",
       "      <th>total_time_minus_client_time</th>\n",
       "      <th>processing_time_in_hours</th>\n",
       "      <th>sla_due_at</th>\n",
       "      <th>number_of_sends</th>\n",
       "      <th>sending_method</th>\n",
       "      <th>financial_institution_division</th>\n",
       "      <th>parent_institution</th>\n",
       "    </tr>\n",
       "  </thead>\n",
       "  <tbody>\n",
       "    <tr>\n",
       "      <th>0</th>\n",
       "      <td>TRFIN-88035</td>\n",
       "      <td>CA Retail: Invest</td>\n",
       "      <td>rrsp</td>\n",
       "      <td>manual, no errors</td>\n",
       "      <td>NaN</td>\n",
       "      <td>completed</td>\n",
       "      <td>NaN</td>\n",
       "      <td>2019-01-01 0:00:30</td>\n",
       "      <td>2019-01-09 15:17:07</td>\n",
       "      <td>2019-01-09 15:17:07</td>\n",
       "      <td>207.0</td>\n",
       "      <td>207.0</td>\n",
       "      <td>NaN</td>\n",
       "      <td>2019-01-13 14:00:30</td>\n",
       "      <td>1.0</td>\n",
       "      <td>aton_sent</td>\n",
       "      <td>TD Direct Investing</td>\n",
       "      <td>TD Canada Trust</td>\n",
       "    </tr>\n",
       "    <tr>\n",
       "      <th>1</th>\n",
       "      <td>TRFIN-88036</td>\n",
       "      <td>CA Retail: Invest</td>\n",
       "      <td>rrsp</td>\n",
       "      <td>manual, no errors</td>\n",
       "      <td>NaN</td>\n",
       "      <td>completed</td>\n",
       "      <td>NaN</td>\n",
       "      <td>2019-01-01 0:00:32</td>\n",
       "      <td>2019-01-16 22:39:33</td>\n",
       "      <td>2019-01-16 22:39:33</td>\n",
       "      <td>382.0</td>\n",
       "      <td>382.0</td>\n",
       "      <td>0.0166</td>\n",
       "      <td>2019-01-18 0:00:32</td>\n",
       "      <td>1.0</td>\n",
       "      <td>fax_sent</td>\n",
       "      <td>Sun Life Group Plans</td>\n",
       "      <td>Sun Life</td>\n",
       "    </tr>\n",
       "    <tr>\n",
       "      <th>2</th>\n",
       "      <td>TRFIN-88037</td>\n",
       "      <td>CA Retail: Invest</td>\n",
       "      <td>tfsa</td>\n",
       "      <td>manual, errors</td>\n",
       "      <td>wrong_division</td>\n",
       "      <td>completed</td>\n",
       "      <td>NaN</td>\n",
       "      <td>2019-01-01 0:00:33</td>\n",
       "      <td>2019-01-09 22:30:31</td>\n",
       "      <td>2019-01-09 22:30:31</td>\n",
       "      <td>214.0</td>\n",
       "      <td>214.0</td>\n",
       "      <td>0.1166</td>\n",
       "      <td>2019-01-18 0:00:33</td>\n",
       "      <td>2.0</td>\n",
       "      <td>fax_sent</td>\n",
       "      <td>TD Mutual Funds</td>\n",
       "      <td>TD Canada Trust</td>\n",
       "    </tr>\n",
       "    <tr>\n",
       "      <th>3</th>\n",
       "      <td>TRFIN-88040</td>\n",
       "      <td>CA Retail: Invest</td>\n",
       "      <td>tfsa</td>\n",
       "      <td>manual, no errors</td>\n",
       "      <td>NaN</td>\n",
       "      <td>completed</td>\n",
       "      <td>NaN</td>\n",
       "      <td>2019-01-01 0:00:34</td>\n",
       "      <td>2019-01-04 21:53:27</td>\n",
       "      <td>2019-01-04 21:53:27</td>\n",
       "      <td>93.0</td>\n",
       "      <td>93.0</td>\n",
       "      <td>0.0166</td>\n",
       "      <td>2019-01-18 0:00:34</td>\n",
       "      <td>1.0</td>\n",
       "      <td>fax_sent</td>\n",
       "      <td>People's Trust</td>\n",
       "      <td>People's Trust</td>\n",
       "    </tr>\n",
       "    <tr>\n",
       "      <th>4</th>\n",
       "      <td>TRFIN-88044</td>\n",
       "      <td>CA Retail: Invest</td>\n",
       "      <td>tfsa</td>\n",
       "      <td>cancelled before send</td>\n",
       "      <td>NaN</td>\n",
       "      <td>cancelled</td>\n",
       "      <td>NaN</td>\n",
       "      <td>2019-01-01 0:42:11</td>\n",
       "      <td>NaN</td>\n",
       "      <td>2019-01-01 0:43:21</td>\n",
       "      <td>NaN</td>\n",
       "      <td>NaN</td>\n",
       "      <td>NaN</td>\n",
       "      <td>NaN</td>\n",
       "      <td>NaN</td>\n",
       "      <td>NaN</td>\n",
       "      <td>RBC Branch</td>\n",
       "      <td>Royal Bank of Canada</td>\n",
       "    </tr>\n",
       "  </tbody>\n",
       "</table>\n",
       "</div>"
      ],
      "text/plain": [
       "  transaction_id business_unit_product account_canonical_id  \\\n",
       "0    TRFIN-88035     CA Retail: Invest                 rrsp   \n",
       "1    TRFIN-88036     CA Retail: Invest                 rrsp   \n",
       "2    TRFIN-88037     CA Retail: Invest                 tfsa   \n",
       "3    TRFIN-88040     CA Retail: Invest                 tfsa   \n",
       "4    TRFIN-88044     CA Retail: Invest                 tfsa   \n",
       "\n",
       "       automation_status   error_details current_status  amount  \\\n",
       "0      manual, no errors             NaN      completed     NaN   \n",
       "1      manual, no errors             NaN      completed     NaN   \n",
       "2         manual, errors  wrong_division      completed     NaN   \n",
       "3      manual, no errors             NaN      completed     NaN   \n",
       "4  cancelled before send             NaN      cancelled     NaN   \n",
       "\n",
       "           created_at         completed_at           updated_at  \\\n",
       "0  2019-01-01 0:00:30  2019-01-09 15:17:07  2019-01-09 15:17:07   \n",
       "1  2019-01-01 0:00:32  2019-01-16 22:39:33  2019-01-16 22:39:33   \n",
       "2  2019-01-01 0:00:33  2019-01-09 22:30:31  2019-01-09 22:30:31   \n",
       "3  2019-01-01 0:00:34  2019-01-04 21:53:27  2019-01-04 21:53:27   \n",
       "4  2019-01-01 0:42:11                  NaN   2019-01-01 0:43:21   \n",
       "\n",
       "   total_time_in_hours  total_time_minus_client_time  \\\n",
       "0                207.0                         207.0   \n",
       "1                382.0                         382.0   \n",
       "2                214.0                         214.0   \n",
       "3                 93.0                          93.0   \n",
       "4                  NaN                           NaN   \n",
       "\n",
       "   processing_time_in_hours           sla_due_at  number_of_sends  \\\n",
       "0                       NaN  2019-01-13 14:00:30              1.0   \n",
       "1                    0.0166   2019-01-18 0:00:32              1.0   \n",
       "2                    0.1166   2019-01-18 0:00:33              2.0   \n",
       "3                    0.0166   2019-01-18 0:00:34              1.0   \n",
       "4                       NaN                  NaN              NaN   \n",
       "\n",
       "  sending_method financial_institution_division    parent_institution  \n",
       "0      aton_sent            TD Direct Investing       TD Canada Trust  \n",
       "1       fax_sent           Sun Life Group Plans              Sun Life  \n",
       "2       fax_sent                TD Mutual Funds       TD Canada Trust  \n",
       "3       fax_sent                 People's Trust        People's Trust  \n",
       "4            NaN                     RBC Branch  Royal Bank of Canada  "
      ]
     },
     "execution_count": 3,
     "metadata": {},
     "output_type": "execute_result"
    }
   ],
   "source": [
    "ws_data.head()"
   ]
  },
  {
   "cell_type": "code",
   "execution_count": 4,
   "metadata": {
    "scrolled": true
   },
   "outputs": [
    {
     "data": {
      "text/html": [
       "<div>\n",
       "<style scoped>\n",
       "    .dataframe tbody tr th:only-of-type {\n",
       "        vertical-align: middle;\n",
       "    }\n",
       "\n",
       "    .dataframe tbody tr th {\n",
       "        vertical-align: top;\n",
       "    }\n",
       "\n",
       "    .dataframe thead th {\n",
       "        text-align: right;\n",
       "    }\n",
       "</style>\n",
       "<table border=\"1\" class=\"dataframe\">\n",
       "  <thead>\n",
       "    <tr style=\"text-align: right;\">\n",
       "      <th></th>\n",
       "      <th>transaction_id</th>\n",
       "      <th>business_unit_product</th>\n",
       "      <th>account_canonical_id</th>\n",
       "      <th>automation_status</th>\n",
       "      <th>error_details</th>\n",
       "      <th>current_status</th>\n",
       "      <th>amount</th>\n",
       "      <th>created_at</th>\n",
       "      <th>completed_at</th>\n",
       "      <th>updated_at</th>\n",
       "      <th>total_time_in_hours</th>\n",
       "      <th>total_time_minus_client_time</th>\n",
       "      <th>processing_time_in_hours</th>\n",
       "      <th>sla_due_at</th>\n",
       "      <th>number_of_sends</th>\n",
       "      <th>sending_method</th>\n",
       "      <th>financial_institution_division</th>\n",
       "      <th>parent_institution</th>\n",
       "    </tr>\n",
       "  </thead>\n",
       "  <tbody>\n",
       "    <tr>\n",
       "      <th>15721</th>\n",
       "      <td>TRFIN-105168</td>\n",
       "      <td>CA Retail: Invest</td>\n",
       "      <td>rrsp</td>\n",
       "      <td>manual, errors</td>\n",
       "      <td>institution_did_not_receive, wrong_delivery_me...</td>\n",
       "      <td>completed</td>\n",
       "      <td>NaN</td>\n",
       "      <td>2019-03-31 23:00:49</td>\n",
       "      <td>2019-06-03 14:24:01</td>\n",
       "      <td>2019-06-03 14:24:01</td>\n",
       "      <td>1527.0</td>\n",
       "      <td>1527.0</td>\n",
       "      <td>0.1333</td>\n",
       "      <td>NaN</td>\n",
       "      <td>3.0</td>\n",
       "      <td>aton_sent, fax_sent</td>\n",
       "      <td>Scotia Securities</td>\n",
       "      <td>Scotiabank</td>\n",
       "    </tr>\n",
       "    <tr>\n",
       "      <th>15722</th>\n",
       "      <td>TRFIN-105172</td>\n",
       "      <td>CA Retail: Invest</td>\n",
       "      <td>tfsa</td>\n",
       "      <td>cancelled before send</td>\n",
       "      <td>NaN</td>\n",
       "      <td>cancelled</td>\n",
       "      <td>NaN</td>\n",
       "      <td>2019-03-31 23:07:04</td>\n",
       "      <td>NaN</td>\n",
       "      <td>2019-03-31 23:36:56</td>\n",
       "      <td>NaN</td>\n",
       "      <td>NaN</td>\n",
       "      <td>0.0333</td>\n",
       "      <td>NaN</td>\n",
       "      <td>NaN</td>\n",
       "      <td>NaN</td>\n",
       "      <td>TD Bank Branch</td>\n",
       "      <td>TD Canada Trust</td>\n",
       "    </tr>\n",
       "    <tr>\n",
       "      <th>15723</th>\n",
       "      <td>TRFIN-105175</td>\n",
       "      <td>CA Retail: Invest</td>\n",
       "      <td>tfsa</td>\n",
       "      <td>cancelled before send</td>\n",
       "      <td>NaN</td>\n",
       "      <td>cancelled</td>\n",
       "      <td>NaN</td>\n",
       "      <td>2019-03-31 23:26:27</td>\n",
       "      <td>NaN</td>\n",
       "      <td>2019-03-31 23:26:43</td>\n",
       "      <td>NaN</td>\n",
       "      <td>NaN</td>\n",
       "      <td>NaN</td>\n",
       "      <td>NaN</td>\n",
       "      <td>NaN</td>\n",
       "      <td>NaN</td>\n",
       "      <td>TD Bank Branch</td>\n",
       "      <td>TD Canada Trust</td>\n",
       "    </tr>\n",
       "    <tr>\n",
       "      <th>15724</th>\n",
       "      <td>TRFIN-105179</td>\n",
       "      <td>CA Retail: Invest</td>\n",
       "      <td>tfsa</td>\n",
       "      <td>cancelled before send</td>\n",
       "      <td>NaN</td>\n",
       "      <td>cancelled</td>\n",
       "      <td>NaN</td>\n",
       "      <td>2019-03-31 23:48:06</td>\n",
       "      <td>NaN</td>\n",
       "      <td>2019-03-31 23:55:37</td>\n",
       "      <td>NaN</td>\n",
       "      <td>NaN</td>\n",
       "      <td>NaN</td>\n",
       "      <td>NaN</td>\n",
       "      <td>NaN</td>\n",
       "      <td>NaN</td>\n",
       "      <td>Tangerine</td>\n",
       "      <td>Tangerine Bank</td>\n",
       "    </tr>\n",
       "    <tr>\n",
       "      <th>15725</th>\n",
       "      <td>TRFIN-105180</td>\n",
       "      <td>CA Retail: Invest</td>\n",
       "      <td>tfsa</td>\n",
       "      <td>cancelled before send</td>\n",
       "      <td>NaN</td>\n",
       "      <td>cancelled</td>\n",
       "      <td>NaN</td>\n",
       "      <td>2019-03-31 23:51:06</td>\n",
       "      <td>NaN</td>\n",
       "      <td>2019-03-31 23:51:20</td>\n",
       "      <td>NaN</td>\n",
       "      <td>NaN</td>\n",
       "      <td>NaN</td>\n",
       "      <td>NaN</td>\n",
       "      <td>NaN</td>\n",
       "      <td>NaN</td>\n",
       "      <td>Sun Life Group Plans</td>\n",
       "      <td>Sun Life</td>\n",
       "    </tr>\n",
       "  </tbody>\n",
       "</table>\n",
       "</div>"
      ],
      "text/plain": [
       "      transaction_id business_unit_product account_canonical_id  \\\n",
       "15721   TRFIN-105168     CA Retail: Invest                 rrsp   \n",
       "15722   TRFIN-105172     CA Retail: Invest                 tfsa   \n",
       "15723   TRFIN-105175     CA Retail: Invest                 tfsa   \n",
       "15724   TRFIN-105179     CA Retail: Invest                 tfsa   \n",
       "15725   TRFIN-105180     CA Retail: Invest                 tfsa   \n",
       "\n",
       "           automation_status  \\\n",
       "15721         manual, errors   \n",
       "15722  cancelled before send   \n",
       "15723  cancelled before send   \n",
       "15724  cancelled before send   \n",
       "15725  cancelled before send   \n",
       "\n",
       "                                           error_details current_status  \\\n",
       "15721  institution_did_not_receive, wrong_delivery_me...      completed   \n",
       "15722                                                NaN      cancelled   \n",
       "15723                                                NaN      cancelled   \n",
       "15724                                                NaN      cancelled   \n",
       "15725                                                NaN      cancelled   \n",
       "\n",
       "       amount           created_at         completed_at           updated_at  \\\n",
       "15721     NaN  2019-03-31 23:00:49  2019-06-03 14:24:01  2019-06-03 14:24:01   \n",
       "15722     NaN  2019-03-31 23:07:04                  NaN  2019-03-31 23:36:56   \n",
       "15723     NaN  2019-03-31 23:26:27                  NaN  2019-03-31 23:26:43   \n",
       "15724     NaN  2019-03-31 23:48:06                  NaN  2019-03-31 23:55:37   \n",
       "15725     NaN  2019-03-31 23:51:06                  NaN  2019-03-31 23:51:20   \n",
       "\n",
       "       total_time_in_hours  total_time_minus_client_time  \\\n",
       "15721               1527.0                        1527.0   \n",
       "15722                  NaN                           NaN   \n",
       "15723                  NaN                           NaN   \n",
       "15724                  NaN                           NaN   \n",
       "15725                  NaN                           NaN   \n",
       "\n",
       "       processing_time_in_hours sla_due_at  number_of_sends  \\\n",
       "15721                    0.1333        NaN              3.0   \n",
       "15722                    0.0333        NaN              NaN   \n",
       "15723                       NaN        NaN              NaN   \n",
       "15724                       NaN        NaN              NaN   \n",
       "15725                       NaN        NaN              NaN   \n",
       "\n",
       "            sending_method financial_institution_division parent_institution  \n",
       "15721  aton_sent, fax_sent              Scotia Securities         Scotiabank  \n",
       "15722                  NaN                 TD Bank Branch    TD Canada Trust  \n",
       "15723                  NaN                 TD Bank Branch    TD Canada Trust  \n",
       "15724                  NaN                      Tangerine     Tangerine Bank  \n",
       "15725                  NaN           Sun Life Group Plans           Sun Life  "
      ]
     },
     "execution_count": 4,
     "metadata": {},
     "output_type": "execute_result"
    }
   ],
   "source": [
    "ws_data.tail()"
   ]
  },
  {
   "cell_type": "code",
   "execution_count": 5,
   "metadata": {},
   "outputs": [
    {
     "name": "stdout",
     "output_type": "stream",
     "text": [
      "<class 'pandas.core.frame.DataFrame'>\n",
      "RangeIndex: 15726 entries, 0 to 15725\n",
      "Data columns (total 18 columns):\n",
      " #   Column                          Non-Null Count  Dtype  \n",
      "---  ------                          --------------  -----  \n",
      " 0   transaction_id                  15726 non-null  object \n",
      " 1   business_unit_product           15726 non-null  object \n",
      " 2   account_canonical_id            15726 non-null  object \n",
      " 3   automation_status               15726 non-null  object \n",
      " 4   error_details                   3452 non-null   object \n",
      " 5   current_status                  15726 non-null  object \n",
      " 6   amount                          0 non-null      float64\n",
      " 7   created_at                      15726 non-null  object \n",
      " 8   completed_at                    10976 non-null  object \n",
      " 9   updated_at                      15726 non-null  object \n",
      " 10  total_time_in_hours             10976 non-null  float64\n",
      " 11  total_time_minus_client_time    10976 non-null  float64\n",
      " 12  processing_time_in_hours        11172 non-null  float64\n",
      " 13  sla_due_at                      12290 non-null  object \n",
      " 14  number_of_sends                 12746 non-null  float64\n",
      " 15  sending_method                  12746 non-null  object \n",
      " 16  financial_institution_division  14831 non-null  object \n",
      " 17  parent_institution              14811 non-null  object \n",
      "dtypes: float64(5), object(13)\n",
      "memory usage: 2.2+ MB\n"
     ]
    }
   ],
   "source": [
    "# lets see the basic data type of this data \n",
    "ws_data.info()"
   ]
  },
  {
   "cell_type": "code",
   "execution_count": 6,
   "metadata": {},
   "outputs": [],
   "source": [
    "#Few oberservations about the data,here there are 18 columns & 15726 rows -\n",
    "#1)Certain columns are dates and should be changed to \"date\" datatype\n",
    "#2)All values in Amount column are null. So we either drop it from our dataframe or just avoid it. I am going avoid it.\n",
    "ws_data['created_at'] = pd.to_datetime(ws_data['created_at'])\n",
    "ws_data['completed_at'] = pd.to_datetime(ws_data['completed_at'])\n",
    "ws_data['updated_at'] = pd.to_datetime(ws_data['updated_at'])\n",
    "ws_data['sla_due_at'] = pd.to_datetime(ws_data['sla_due_at'])"
   ]
  },
  {
   "cell_type": "code",
   "execution_count": 7,
   "metadata": {
    "scrolled": true
   },
   "outputs": [
    {
     "name": "stdout",
     "output_type": "stream",
     "text": [
      "<class 'pandas.core.frame.DataFrame'>\n",
      "RangeIndex: 15726 entries, 0 to 15725\n",
      "Data columns (total 18 columns):\n",
      " #   Column                          Non-Null Count  Dtype         \n",
      "---  ------                          --------------  -----         \n",
      " 0   transaction_id                  15726 non-null  object        \n",
      " 1   business_unit_product           15726 non-null  object        \n",
      " 2   account_canonical_id            15726 non-null  object        \n",
      " 3   automation_status               15726 non-null  object        \n",
      " 4   error_details                   3452 non-null   object        \n",
      " 5   current_status                  15726 non-null  object        \n",
      " 6   amount                          0 non-null      float64       \n",
      " 7   created_at                      15726 non-null  datetime64[ns]\n",
      " 8   completed_at                    10976 non-null  datetime64[ns]\n",
      " 9   updated_at                      15726 non-null  datetime64[ns]\n",
      " 10  total_time_in_hours             10976 non-null  float64       \n",
      " 11  total_time_minus_client_time    10976 non-null  float64       \n",
      " 12  processing_time_in_hours        11172 non-null  float64       \n",
      " 13  sla_due_at                      12290 non-null  datetime64[ns]\n",
      " 14  number_of_sends                 12746 non-null  float64       \n",
      " 15  sending_method                  12746 non-null  object        \n",
      " 16  financial_institution_division  14831 non-null  object        \n",
      " 17  parent_institution              14811 non-null  object        \n",
      "dtypes: datetime64[ns](4), float64(5), object(9)\n",
      "memory usage: 2.2+ MB\n"
     ]
    }
   ],
   "source": [
    "ws_data.info()\n",
    "#This looks much better"
   ]
  },
  {
   "cell_type": "markdown",
   "metadata": {},
   "source": [
    "# Now lets start some analysis"
   ]
  },
  {
   "cell_type": "markdown",
   "metadata": {},
   "source": [
    "### What is WS majority business_unit_product and what's its proportion?"
   ]
  },
  {
   "cell_type": "code",
   "execution_count": 8,
   "metadata": {},
   "outputs": [
    {
     "data": {
      "text/plain": [
       "CA Retail: Invest    13782\n",
       "CA B2B: W4A           1944\n",
       "Name: business_unit_product, dtype: int64"
      ]
     },
     "execution_count": 8,
     "metadata": {},
     "output_type": "execute_result"
    }
   ],
   "source": [
    "#Majority of the business comes from CA Retail: Invest - Absolute numbers below : \n",
    "ws_data['business_unit_product'].value_counts()"
   ]
  },
  {
   "cell_type": "code",
   "execution_count": 9,
   "metadata": {},
   "outputs": [
    {
     "name": "stdout",
     "output_type": "stream",
     "text": [
      "Proportion of business for WealthSimple\n"
     ]
    },
    {
     "data": {
      "text/plain": [
       "CA Retail: Invest    87.64\n",
       "CA B2B: W4A          12.36\n",
       "Name: business_unit_product, dtype: float64"
      ]
     },
     "execution_count": 9,
     "metadata": {},
     "output_type": "execute_result"
    }
   ],
   "source": [
    "#Prportionate numbers below : \n",
    "print ('Proportion of business for WealthSimple')\n",
    "round(ws_data['business_unit_product'].value_counts()/ws_data['business_unit_product'].count() * 100,2)"
   ]
  },
  {
   "cell_type": "markdown",
   "metadata": {},
   "source": [
    "#### Conclusion : Retail accounts for about 88% of WealthSimple transfers data\n",
    "# --------------------------------------------------------------------------------------------------------------"
   ]
  },
  {
   "cell_type": "markdown",
   "metadata": {},
   "source": [
    "### What type of account are the transactions happening for? i.e RRSP, TFSA etc?"
   ]
  },
  {
   "cell_type": "code",
   "execution_count": 10,
   "metadata": {},
   "outputs": [
    {
     "data": {
      "text/plain": [
       "rrsp              7013\n",
       "tfsa              4980\n",
       "non-registered    1257\n",
       "lira              1134\n",
       "resp               710\n",
       "spousal rrsp       354\n",
       "rrif               102\n",
       "lif                 64\n",
       "joint               63\n",
       "corporate           49\n",
       "Name: account_canonical_id, dtype: int64"
      ]
     },
     "execution_count": 10,
     "metadata": {},
     "output_type": "execute_result"
    }
   ],
   "source": [
    "#Absolute count of numbers\n",
    "ws_data['account_canonical_id'].value_counts()"
   ]
  },
  {
   "cell_type": "code",
   "execution_count": 11,
   "metadata": {},
   "outputs": [
    {
     "name": "stdout",
     "output_type": "stream",
     "text": [
      "Proportion of account types for WealthSimple\n"
     ]
    },
    {
     "data": {
      "text/plain": [
       "rrsp              44.59\n",
       "tfsa              31.67\n",
       "non-registered     7.99\n",
       "lira               7.21\n",
       "resp               4.51\n",
       "spousal rrsp       2.25\n",
       "rrif               0.65\n",
       "lif                0.41\n",
       "joint              0.40\n",
       "corporate          0.31\n",
       "Name: account_canonical_id, dtype: float64"
      ]
     },
     "execution_count": 11,
     "metadata": {},
     "output_type": "execute_result"
    }
   ],
   "source": [
    "#Propotionate numbers\n",
    "print ('Proportion of account types for WealthSimple')\n",
    "round(ws_data['account_canonical_id'].value_counts()/ws_data['account_canonical_id'].count() * 100,2)"
   ]
  },
  {
   "cell_type": "markdown",
   "metadata": {},
   "source": [
    "#### Conclusion : 75% of the users are transfering in their TFSA and RRSP accout. \n",
    "# --------------------------------------------------------------------------------------------------------------"
   ]
  },
  {
   "cell_type": "markdown",
   "metadata": {},
   "source": [
    "### Now lets look at the financial instutions WS is dealing with"
   ]
  },
  {
   "cell_type": "code",
   "execution_count": 12,
   "metadata": {},
   "outputs": [
    {
     "name": "stdout",
     "output_type": "stream",
     "text": [
      "The total number of Parent Institution WS deals with is 91 and below are the list of institutions:\n",
      "\n",
      " ['TD Canada Trust' 'Sun Life' \"People's Trust\" 'Royal Bank of Canada'\n",
      " 'Alberta Treasury Branches' 'Credential' 'Primerica Canada'\n",
      " 'Industrial Alliance (IA)' 'Tangerine Bank' 'HSBC' nan 'Scotiabank'\n",
      " 'Canadian Western Bank' 'CIBC' 'CI Investments' 'Wealthsimple'\n",
      " 'Bank of Montreal' 'Manulife' 'Simplii Financial' 'Canadian Tire Bank'\n",
      " 'Meridian Credit Union' 'National Bank of Canada' 'Coast Capital Savings'\n",
      " 'Great West Life' 'Hubert Financial' 'Qtrade' 'Questrade' 'AGF'\n",
      " 'Desjardins' 'Computershare' 'Olympia Trust Company' 'Invesco Canada'\n",
      " 'Investors Group' 'Servus Credit Union' 'FundEX Investments'\n",
      " 'Quadrus Investment Services' 'Canada Life' 'Renaissance Investments'\n",
      " 'Worldsource Financial Management' 'Fidelity'\n",
      " 'Concentra Financial Services Association' 'Edward Jones' 'Dynamic Funds'\n",
      " 'Libro Credit Union' 'Mackenzie' 'MD Management' 'BMG Group'\n",
      " 'Steinbach Credit Union' 'BBS Securities / Virtual Brokers'\n",
      " 'Affinity Credit Union' 'Vancity' 'London Life'\n",
      " 'Counsel Portfolio Services' 'B2B Bank' 'Bank of Canada' 'Assante'\n",
      " 'Interactive Brokers Canada Inc.' 'Co-operators Life Insurance Company'\n",
      " 'Franklin Templeton' 'PEAK Financial Group' 'Raymond James'\n",
      " 'Richardson GMP' 'NEI Investments' 'Investment Planning Counsel'\n",
      " 'Alterna Savings and Credit Union Limited'\n",
      " 'Mackie Research Capital Corp.' 'Laurentian Bank of Canada'\n",
      " 'Ninepoint Partners' 'Crosstown Civic Credit Union' 'Sentry Investments'\n",
      " 'Golden Opportunity' 'Canaccord Genuity Corp.' 'ICICI Bank Canada'\n",
      " 'Connor, Clark & Lunn Financial Group' 'Knowledge First Financial'\n",
      " 'PIMCO' 'EdgePoint Wealth Management' 'First Nations Bank of Canada'\n",
      " 'The Equitable Trust Company' 'Airline Financial Credit Union Limited'\n",
      " 'Value Partners' 'Atlantic Central' 'Caldwell Securities Ltd.'\n",
      " 'Odlum Brown Ltd. - Vancouver' 'Central 1 Credit Union - 828'\n",
      " 'Access Credit Union' 'Central 1 Credit Union - 809'\n",
      " 'Korea Exchange Bank of Canada' 'Natixis' 'CLAC'\n",
      " 'Mawer Investment Management']\n"
     ]
    }
   ],
   "source": [
    "#The unique number and list of parent instutions WS is dealing with\n",
    "unique_comp = ws_data['parent_institution'].unique()\n",
    "print (\"The total number of Parent Institution WS deals with is\",len(unique_comp),\"and below are the list of institutions:\\n\\n\",unique_comp)"
   ]
  },
  {
   "cell_type": "code",
   "execution_count": 13,
   "metadata": {},
   "outputs": [
    {
     "data": {
      "text/plain": [
       "TD Canada Trust         2298\n",
       "Royal Bank of Canada    1778\n",
       "Tangerine Bank          1142\n",
       "CIBC                    1022\n",
       "Manulife                 986\n",
       "Name: parent_institution, dtype: int64"
      ]
     },
     "execution_count": 13,
     "metadata": {},
     "output_type": "execute_result"
    }
   ],
   "source": [
    "#The top 5 institutions Wealthsimple Deals with\n",
    "top_parties = ws_data['parent_institution'].value_counts()\n",
    "top_parties.head()"
   ]
  },
  {
   "cell_type": "code",
   "execution_count": 14,
   "metadata": {},
   "outputs": [
    {
     "name": "stdout",
     "output_type": "stream",
     "text": [
      "Business from top 5 partners accounts to about  48.79\n"
     ]
    }
   ],
   "source": [
    "pct_top_parties = top_parties.head().sum()/top_parties.sum()\n",
    "print ('Business from top 5 partners accounts to about ', round (pct_top_parties * 100,2))"
   ]
  },
  {
   "cell_type": "markdown",
   "metadata": {},
   "source": [
    "#### Conclusion : There are 91 unique Parent instutions WS deals with. Majority of those are the as below\n",
    "\n",
    "TD Canada Trust        \n",
    "Royal Bank of Canada    \n",
    "Tangerine Bank          \n",
    "CIBC                    \n",
    "Manulife   \n",
    "\n",
    "\n",
    "#### These top 5 banks accounts for about 50% of the transfers \n",
    "# --------------------------------------------------------------------------------------------------------------"
   ]
  },
  {
   "cell_type": "markdown",
   "metadata": {},
   "source": [
    "### Now lets look at the other important metrics such the total hours, processing times and number of sends"
   ]
  },
  {
   "cell_type": "code",
   "execution_count": 15,
   "metadata": {},
   "outputs": [
    {
     "data": {
      "text/html": [
       "<div>\n",
       "<style scoped>\n",
       "    .dataframe tbody tr th:only-of-type {\n",
       "        vertical-align: middle;\n",
       "    }\n",
       "\n",
       "    .dataframe tbody tr th {\n",
       "        vertical-align: top;\n",
       "    }\n",
       "\n",
       "    .dataframe thead th {\n",
       "        text-align: right;\n",
       "    }\n",
       "</style>\n",
       "<table border=\"1\" class=\"dataframe\">\n",
       "  <thead>\n",
       "    <tr style=\"text-align: right;\">\n",
       "      <th></th>\n",
       "      <th>amount</th>\n",
       "      <th>total_time_in_hours</th>\n",
       "      <th>total_time_minus_client_time</th>\n",
       "      <th>processing_time_in_hours</th>\n",
       "      <th>number_of_sends</th>\n",
       "    </tr>\n",
       "  </thead>\n",
       "  <tbody>\n",
       "    <tr>\n",
       "      <th>count</th>\n",
       "      <td>0.0</td>\n",
       "      <td>10976.000000</td>\n",
       "      <td>10976.000000</td>\n",
       "      <td>11172.000000</td>\n",
       "      <td>12746.000000</td>\n",
       "    </tr>\n",
       "    <tr>\n",
       "      <th>mean</th>\n",
       "      <td>NaN</td>\n",
       "      <td>393.933673</td>\n",
       "      <td>354.196599</td>\n",
       "      <td>0.067672</td>\n",
       "      <td>1.242743</td>\n",
       "    </tr>\n",
       "    <tr>\n",
       "      <th>std</th>\n",
       "      <td>NaN</td>\n",
       "      <td>391.018009</td>\n",
       "      <td>321.897995</td>\n",
       "      <td>0.083459</td>\n",
       "      <td>0.655900</td>\n",
       "    </tr>\n",
       "    <tr>\n",
       "      <th>min</th>\n",
       "      <td>NaN</td>\n",
       "      <td>4.000000</td>\n",
       "      <td>-502.566600</td>\n",
       "      <td>0.000000</td>\n",
       "      <td>1.000000</td>\n",
       "    </tr>\n",
       "    <tr>\n",
       "      <th>25%</th>\n",
       "      <td>NaN</td>\n",
       "      <td>181.000000</td>\n",
       "      <td>172.000000</td>\n",
       "      <td>0.016600</td>\n",
       "      <td>1.000000</td>\n",
       "    </tr>\n",
       "    <tr>\n",
       "      <th>50%</th>\n",
       "      <td>NaN</td>\n",
       "      <td>269.000000</td>\n",
       "      <td>261.666700</td>\n",
       "      <td>0.033300</td>\n",
       "      <td>1.000000</td>\n",
       "    </tr>\n",
       "    <tr>\n",
       "      <th>75%</th>\n",
       "      <td>NaN</td>\n",
       "      <td>454.000000</td>\n",
       "      <td>412.887500</td>\n",
       "      <td>0.083300</td>\n",
       "      <td>1.000000</td>\n",
       "    </tr>\n",
       "    <tr>\n",
       "      <th>max</th>\n",
       "      <td>NaN</td>\n",
       "      <td>4145.000000</td>\n",
       "      <td>3382.050100</td>\n",
       "      <td>0.950000</td>\n",
       "      <td>10.000000</td>\n",
       "    </tr>\n",
       "  </tbody>\n",
       "</table>\n",
       "</div>"
      ],
      "text/plain": [
       "       amount  total_time_in_hours  total_time_minus_client_time  \\\n",
       "count     0.0         10976.000000                  10976.000000   \n",
       "mean      NaN           393.933673                    354.196599   \n",
       "std       NaN           391.018009                    321.897995   \n",
       "min       NaN             4.000000                   -502.566600   \n",
       "25%       NaN           181.000000                    172.000000   \n",
       "50%       NaN           269.000000                    261.666700   \n",
       "75%       NaN           454.000000                    412.887500   \n",
       "max       NaN          4145.000000                   3382.050100   \n",
       "\n",
       "       processing_time_in_hours  number_of_sends  \n",
       "count              11172.000000     12746.000000  \n",
       "mean                   0.067672         1.242743  \n",
       "std                    0.083459         0.655900  \n",
       "min                    0.000000         1.000000  \n",
       "25%                    0.016600         1.000000  \n",
       "50%                    0.033300         1.000000  \n",
       "75%                    0.083300         1.000000  \n",
       "max                    0.950000        10.000000  "
      ]
     },
     "execution_count": 15,
     "metadata": {},
     "output_type": "execute_result"
    }
   ],
   "source": [
    "ws_data.describe()"
   ]
  },
  {
   "cell_type": "markdown",
   "metadata": {},
   "source": [
    "### The above is a very simple yet detailed table.\n",
    "#### Few key points are as below :"
   ]
  },
  {
   "cell_type": "code",
   "execution_count": 16,
   "metadata": {},
   "outputs": [
    {
     "name": "stdout",
     "output_type": "stream",
     "text": [
      "The average total_time_in_hours is 393.93 hours. The least amount of time taken is 4.0 hours and the max amount of time taken is 4145.0 hours.\n"
     ]
    }
   ],
   "source": [
    "print ('The average total_time_in_hours is {} hours. The least amount of time taken is {} hours and the max amount of time taken is {} hours.'.format(round(ws_data['total_time_in_hours'].mean(),2),ws_data['total_time_in_hours'].min(),ws_data['total_time_in_hours'].max()))"
   ]
  },
  {
   "cell_type": "code",
   "execution_count": 17,
   "metadata": {},
   "outputs": [
    {
     "data": {
      "image/png": "[encoded data removed]",
      "text/plain": [
       "<Figure size 1152x576 with 1 Axes>"
      ]
     },
     "metadata": {
      "needs_background": "light"
     },
     "output_type": "display_data"
    }
   ],
   "source": [
    "plt.figure(figsize=(16,8))\n",
    "plt.title('Total Time in hours')\n",
    "plt.xlabel('Hours')\n",
    "plt.ylabel('Number of Transactions')\n",
    "plt.hist(ws_data['total_time_in_hours'],bins=np.arange(0,4000,250),alpha=0.7);"
   ]
  },
  {
   "cell_type": "markdown",
   "metadata": {},
   "source": [
    "### This image helps us understand the majority of transfers happen within the first 400 hours.\n",
    "### Anything above that is a delay and above 700 hours are extremely delayed "
   ]
  },
  {
   "cell_type": "code",
   "execution_count": 18,
   "metadata": {},
   "outputs": [
    {
     "name": "stdout",
     "output_type": "stream",
     "text": [
      "Number of transactions exceeding average time 3259\n",
      "Number of transactions exceeding 500 hours 2308\n",
      "\u001b[31m\"Number of transactions exceeding 700 hours is 1325 ,Needs immidiate attention\"\u001b[0m\n"
     ]
    }
   ],
   "source": [
    "print ('Number of transactions exceeding average time',(ws_data['total_time_in_hours'] > 400).sum())\n",
    "\n",
    "print ('Number of transactions exceeding 500 hours',(ws_data['total_time_in_hours'] > 500).sum())\n",
    "\n",
    "print (\"\\x1b[31m\\\"Number of transactions exceeding 700 hours is\",(ws_data['total_time_in_hours'] > 700).sum(),\",Needs immidiate attention\\\"\\x1b[0m\")"
   ]
  },
  {
   "cell_type": "code",
   "execution_count": 19,
   "metadata": {},
   "outputs": [
    {
     "data": {
      "image/png": "[encoded data removed]",
      "text/plain": [
       "<Figure size 1152x576 with 1 Axes>"
      ]
     },
     "metadata": {
      "needs_background": "light"
     },
     "output_type": "display_data"
    }
   ],
   "source": [
    "plt.figure(figsize=(16,8))\n",
    "plt.title('Processing Time for transacations')\n",
    "plt.xlabel('Hours')\n",
    "plt.ylabel('Number of Transactions')\n",
    "plt.hist(ws_data['processing_time_in_hours'],color='g',alpha=0.4);"
   ]
  },
  {
   "cell_type": "markdown",
   "metadata": {},
   "source": [
    "### This image helps us understand the majority of processing happen within the first 12 mins.\n",
    "### Anything above that is a delay and above 1 hour is abnormal"
   ]
  },
  {
   "cell_type": "code",
   "execution_count": 20,
   "metadata": {},
   "outputs": [
    {
     "name": "stdout",
     "output_type": "stream",
     "text": [
      "Number of transactions exceeding average time of 0.2 hours 708\n",
      "Number of transactions exceeding 0.4 hours 110\n",
      "Number of transactions exceeding 1 hour is 0 ,Needs immidiate attention\n"
     ]
    }
   ],
   "source": [
    "print ('Number of transactions exceeding average time of 0.2 hours',(ws_data['processing_time_in_hours'] > 0.2).sum())\n",
    "\n",
    "print ('Number of transactions exceeding 0.4 hours',(ws_data['processing_time_in_hours'] > .4).sum())\n",
    "\n",
    "print (\"Number of transactions exceeding 1 hour is\",(ws_data['processing_time_in_hours'] > 1).sum(),\",Needs immidiate attention\")"
   ]
  },
  {
   "cell_type": "code",
   "execution_count": 21,
   "metadata": {},
   "outputs": [],
   "source": [
    "ws_data['sla_breached'] = (ws_data['completed_at'] > ws_data['sla_due_at'])"
   ]
  },
  {
   "cell_type": "code",
   "execution_count": 22,
   "metadata": {},
   "outputs": [
    {
     "data": {
      "text/html": [
       "<div>\n",
       "<style scoped>\n",
       "    .dataframe tbody tr th:only-of-type {\n",
       "        vertical-align: middle;\n",
       "    }\n",
       "\n",
       "    .dataframe tbody tr th {\n",
       "        vertical-align: top;\n",
       "    }\n",
       "\n",
       "    .dataframe thead th {\n",
       "        text-align: right;\n",
       "    }\n",
       "</style>\n",
       "<table border=\"1\" class=\"dataframe\">\n",
       "  <thead>\n",
       "    <tr style=\"text-align: right;\">\n",
       "      <th></th>\n",
       "      <th>transaction_id</th>\n",
       "      <th>business_unit_product</th>\n",
       "      <th>account_canonical_id</th>\n",
       "      <th>automation_status</th>\n",
       "      <th>error_details</th>\n",
       "      <th>current_status</th>\n",
       "      <th>amount</th>\n",
       "      <th>created_at</th>\n",
       "      <th>completed_at</th>\n",
       "      <th>updated_at</th>\n",
       "      <th>total_time_in_hours</th>\n",
       "      <th>total_time_minus_client_time</th>\n",
       "      <th>processing_time_in_hours</th>\n",
       "      <th>sla_due_at</th>\n",
       "      <th>number_of_sends</th>\n",
       "      <th>sending_method</th>\n",
       "      <th>financial_institution_division</th>\n",
       "      <th>parent_institution</th>\n",
       "      <th>sla_breached</th>\n",
       "    </tr>\n",
       "  </thead>\n",
       "  <tbody>\n",
       "    <tr>\n",
       "      <th>6</th>\n",
       "      <td>TRFIN-87811</td>\n",
       "      <td>CA B2B: W4A</td>\n",
       "      <td>lira</td>\n",
       "      <td>manual, no errors</td>\n",
       "      <td>NaN</td>\n",
       "      <td>completed</td>\n",
       "      <td>NaN</td>\n",
       "      <td>2019-01-01 02:00:23</td>\n",
       "      <td>2019-01-16 16:18:20</td>\n",
       "      <td>2019-01-16 16:18:20</td>\n",
       "      <td>374.0</td>\n",
       "      <td>374.0000</td>\n",
       "      <td>NaN</td>\n",
       "      <td>2019-01-13 16:00:23</td>\n",
       "      <td>1.0</td>\n",
       "      <td>aton_sent</td>\n",
       "      <td>Credential Securities</td>\n",
       "      <td>Credential</td>\n",
       "      <td>True</td>\n",
       "    </tr>\n",
       "    <tr>\n",
       "      <th>7</th>\n",
       "      <td>TRFIN-87812</td>\n",
       "      <td>CA B2B: W4A</td>\n",
       "      <td>lira</td>\n",
       "      <td>manual, errors</td>\n",
       "      <td>received_over_the_counter_securities</td>\n",
       "      <td>completed</td>\n",
       "      <td>NaN</td>\n",
       "      <td>2019-01-01 02:00:24</td>\n",
       "      <td>2019-02-11 20:41:21</td>\n",
       "      <td>2019-02-11 20:41:21</td>\n",
       "      <td>1002.0</td>\n",
       "      <td>378.5667</td>\n",
       "      <td>0.0500</td>\n",
       "      <td>2019-02-08 15:00:24</td>\n",
       "      <td>1.0</td>\n",
       "      <td>aton_sent</td>\n",
       "      <td>Credential Securities</td>\n",
       "      <td>Credential</td>\n",
       "      <td>True</td>\n",
       "    </tr>\n",
       "    <tr>\n",
       "      <th>8</th>\n",
       "      <td>TRFIN-87814</td>\n",
       "      <td>CA B2B: W4A</td>\n",
       "      <td>rrsp</td>\n",
       "      <td>manual, errors</td>\n",
       "      <td>no_agreement_with_fund_company, other</td>\n",
       "      <td>completed</td>\n",
       "      <td>NaN</td>\n",
       "      <td>2019-01-01 02:00:26</td>\n",
       "      <td>2019-02-05 17:48:16</td>\n",
       "      <td>2019-02-12 20:08:58</td>\n",
       "      <td>855.0</td>\n",
       "      <td>466.5334</td>\n",
       "      <td>0.1000</td>\n",
       "      <td>2019-01-29 20:00:26</td>\n",
       "      <td>2.0</td>\n",
       "      <td>aton_sent</td>\n",
       "      <td>Credential Securities</td>\n",
       "      <td>Credential</td>\n",
       "      <td>True</td>\n",
       "    </tr>\n",
       "    <tr>\n",
       "      <th>9</th>\n",
       "      <td>TRFIN-87825</td>\n",
       "      <td>CA B2B: W4A</td>\n",
       "      <td>rrsp</td>\n",
       "      <td>manual, errors</td>\n",
       "      <td>received_over_the_counter_securities</td>\n",
       "      <td>completed</td>\n",
       "      <td>NaN</td>\n",
       "      <td>2019-01-01 02:00:27</td>\n",
       "      <td>2019-01-30 16:07:24</td>\n",
       "      <td>2019-01-30 16:07:24</td>\n",
       "      <td>710.0</td>\n",
       "      <td>686.1167</td>\n",
       "      <td>0.0500</td>\n",
       "      <td>2019-01-14 15:00:27</td>\n",
       "      <td>2.0</td>\n",
       "      <td>aton_sent</td>\n",
       "      <td>Credential Securities</td>\n",
       "      <td>Credential</td>\n",
       "      <td>True</td>\n",
       "    </tr>\n",
       "    <tr>\n",
       "      <th>15</th>\n",
       "      <td>TRFIN-59499</td>\n",
       "      <td>CA Retail: Invest</td>\n",
       "      <td>rrsp</td>\n",
       "      <td>manual, no errors</td>\n",
       "      <td>NaN</td>\n",
       "      <td>completed</td>\n",
       "      <td>NaN</td>\n",
       "      <td>2019-01-01 08:00:23</td>\n",
       "      <td>2019-01-29 22:01:46</td>\n",
       "      <td>2019-01-31 17:54:29</td>\n",
       "      <td>686.0</td>\n",
       "      <td>686.0000</td>\n",
       "      <td>0.0166</td>\n",
       "      <td>2019-01-18 08:00:23</td>\n",
       "      <td>1.0</td>\n",
       "      <td>fax_sent</td>\n",
       "      <td>HSBC</td>\n",
       "      <td>HSBC</td>\n",
       "      <td>True</td>\n",
       "    </tr>\n",
       "    <tr>\n",
       "      <th>...</th>\n",
       "      <td>...</td>\n",
       "      <td>...</td>\n",
       "      <td>...</td>\n",
       "      <td>...</td>\n",
       "      <td>...</td>\n",
       "      <td>...</td>\n",
       "      <td>...</td>\n",
       "      <td>...</td>\n",
       "      <td>...</td>\n",
       "      <td>...</td>\n",
       "      <td>...</td>\n",
       "      <td>...</td>\n",
       "      <td>...</td>\n",
       "      <td>...</td>\n",
       "      <td>...</td>\n",
       "      <td>...</td>\n",
       "      <td>...</td>\n",
       "      <td>...</td>\n",
       "      <td>...</td>\n",
       "    </tr>\n",
       "    <tr>\n",
       "      <th>15693</th>\n",
       "      <td>TRFIN-105140</td>\n",
       "      <td>CA Retail: Invest</td>\n",
       "      <td>rrsp</td>\n",
       "      <td>manual, errors</td>\n",
       "      <td>wrong_delivery_method</td>\n",
       "      <td>completed</td>\n",
       "      <td>NaN</td>\n",
       "      <td>2019-03-31 21:00:47</td>\n",
       "      <td>2019-05-21 21:31:28</td>\n",
       "      <td>2019-05-21 21:31:28</td>\n",
       "      <td>1224.0</td>\n",
       "      <td>1224.0000</td>\n",
       "      <td>0.1333</td>\n",
       "      <td>2019-04-17 21:00:47</td>\n",
       "      <td>2.0</td>\n",
       "      <td>fax_sent</td>\n",
       "      <td>Great West Life</td>\n",
       "      <td>Great West Life</td>\n",
       "      <td>True</td>\n",
       "    </tr>\n",
       "    <tr>\n",
       "      <th>15694</th>\n",
       "      <td>TRFIN-105141</td>\n",
       "      <td>CA Retail: Invest</td>\n",
       "      <td>spousal rrsp</td>\n",
       "      <td>manual, errors</td>\n",
       "      <td>could_not_reach_institution</td>\n",
       "      <td>completed</td>\n",
       "      <td>NaN</td>\n",
       "      <td>2019-03-31 21:00:48</td>\n",
       "      <td>2019-05-01 21:14:27</td>\n",
       "      <td>2019-05-01 21:14:27</td>\n",
       "      <td>744.0</td>\n",
       "      <td>742.4834</td>\n",
       "      <td>0.0666</td>\n",
       "      <td>2019-04-17 22:00:48</td>\n",
       "      <td>1.0</td>\n",
       "      <td>fax_sent</td>\n",
       "      <td>CIBC Branch / Securities</td>\n",
       "      <td>CIBC</td>\n",
       "      <td>True</td>\n",
       "    </tr>\n",
       "    <tr>\n",
       "      <th>15695</th>\n",
       "      <td>TRFIN-105143</td>\n",
       "      <td>CA Retail: Invest</td>\n",
       "      <td>tfsa</td>\n",
       "      <td>manual, no errors</td>\n",
       "      <td>NaN</td>\n",
       "      <td>completed</td>\n",
       "      <td>NaN</td>\n",
       "      <td>2019-03-31 21:00:50</td>\n",
       "      <td>2019-05-09 20:39:05</td>\n",
       "      <td>2019-05-09 20:39:05</td>\n",
       "      <td>935.0</td>\n",
       "      <td>935.0000</td>\n",
       "      <td>0.0166</td>\n",
       "      <td>2019-04-17 21:00:50</td>\n",
       "      <td>1.0</td>\n",
       "      <td>fax_sent</td>\n",
       "      <td>BMO Mutual Funds / Term Investments</td>\n",
       "      <td>Bank of Montreal</td>\n",
       "      <td>True</td>\n",
       "    </tr>\n",
       "    <tr>\n",
       "      <th>15708</th>\n",
       "      <td>TRFIN-105158</td>\n",
       "      <td>CA Retail: Invest</td>\n",
       "      <td>tfsa</td>\n",
       "      <td>manual, no errors</td>\n",
       "      <td>NaN</td>\n",
       "      <td>completed</td>\n",
       "      <td>NaN</td>\n",
       "      <td>2019-03-31 22:00:44</td>\n",
       "      <td>2019-04-16 14:30:22</td>\n",
       "      <td>2019-04-16 14:30:22</td>\n",
       "      <td>376.0</td>\n",
       "      <td>376.0000</td>\n",
       "      <td>NaN</td>\n",
       "      <td>2019-04-13 12:00:44</td>\n",
       "      <td>1.0</td>\n",
       "      <td>aton_sent</td>\n",
       "      <td>Questrade</td>\n",
       "      <td>Questrade</td>\n",
       "      <td>True</td>\n",
       "    </tr>\n",
       "    <tr>\n",
       "      <th>15709</th>\n",
       "      <td>TRFIN-105160</td>\n",
       "      <td>CA Retail: Invest</td>\n",
       "      <td>non-registered</td>\n",
       "      <td>manual, errors</td>\n",
       "      <td>invalid_account_number, other</td>\n",
       "      <td>completed</td>\n",
       "      <td>NaN</td>\n",
       "      <td>2019-03-31 22:00:45</td>\n",
       "      <td>2019-05-23 22:37:23</td>\n",
       "      <td>2019-05-23 22:37:23</td>\n",
       "      <td>1272.0</td>\n",
       "      <td>928.1334</td>\n",
       "      <td>0.2000</td>\n",
       "      <td>2019-05-02 05:00:45</td>\n",
       "      <td>3.0</td>\n",
       "      <td>fax_sent</td>\n",
       "      <td>Manulife Group Retirement Services</td>\n",
       "      <td>Manulife</td>\n",
       "      <td>True</td>\n",
       "    </tr>\n",
       "  </tbody>\n",
       "</table>\n",
       "<p>2888 rows × 19 columns</p>\n",
       "</div>"
      ],
      "text/plain": [
       "      transaction_id business_unit_product account_canonical_id  \\\n",
       "6        TRFIN-87811           CA B2B: W4A                 lira   \n",
       "7        TRFIN-87812           CA B2B: W4A                 lira   \n",
       "8        TRFIN-87814           CA B2B: W4A                 rrsp   \n",
       "9        TRFIN-87825           CA B2B: W4A                 rrsp   \n",
       "15       TRFIN-59499     CA Retail: Invest                 rrsp   \n",
       "...              ...                   ...                  ...   \n",
       "15693   TRFIN-105140     CA Retail: Invest                 rrsp   \n",
       "15694   TRFIN-105141     CA Retail: Invest         spousal rrsp   \n",
       "15695   TRFIN-105143     CA Retail: Invest                 tfsa   \n",
       "15708   TRFIN-105158     CA Retail: Invest                 tfsa   \n",
       "15709   TRFIN-105160     CA Retail: Invest       non-registered   \n",
       "\n",
       "       automation_status                          error_details  \\\n",
       "6      manual, no errors                                    NaN   \n",
       "7         manual, errors   received_over_the_counter_securities   \n",
       "8         manual, errors  no_agreement_with_fund_company, other   \n",
       "9         manual, errors   received_over_the_counter_securities   \n",
       "15     manual, no errors                                    NaN   \n",
       "...                  ...                                    ...   \n",
       "15693     manual, errors                  wrong_delivery_method   \n",
       "15694     manual, errors            could_not_reach_institution   \n",
       "15695  manual, no errors                                    NaN   \n",
       "15708  manual, no errors                                    NaN   \n",
       "15709     manual, errors          invalid_account_number, other   \n",
       "\n",
       "      current_status  amount          created_at        completed_at  \\\n",
       "6          completed     NaN 2019-01-01 02:00:23 2019-01-16 16:18:20   \n",
       "7          completed     NaN 2019-01-01 02:00:24 2019-02-11 20:41:21   \n",
       "8          completed     NaN 2019-01-01 02:00:26 2019-02-05 17:48:16   \n",
       "9          completed     NaN 2019-01-01 02:00:27 2019-01-30 16:07:24   \n",
       "15         completed     NaN 2019-01-01 08:00:23 2019-01-29 22:01:46   \n",
       "...              ...     ...                 ...                 ...   \n",
       "15693      completed     NaN 2019-03-31 21:00:47 2019-05-21 21:31:28   \n",
       "15694      completed     NaN 2019-03-31 21:00:48 2019-05-01 21:14:27   \n",
       "15695      completed     NaN 2019-03-31 21:00:50 2019-05-09 20:39:05   \n",
       "15708      completed     NaN 2019-03-31 22:00:44 2019-04-16 14:30:22   \n",
       "15709      completed     NaN 2019-03-31 22:00:45 2019-05-23 22:37:23   \n",
       "\n",
       "               updated_at  total_time_in_hours  total_time_minus_client_time  \\\n",
       "6     2019-01-16 16:18:20                374.0                      374.0000   \n",
       "7     2019-02-11 20:41:21               1002.0                      378.5667   \n",
       "8     2019-02-12 20:08:58                855.0                      466.5334   \n",
       "9     2019-01-30 16:07:24                710.0                      686.1167   \n",
       "15    2019-01-31 17:54:29                686.0                      686.0000   \n",
       "...                   ...                  ...                           ...   \n",
       "15693 2019-05-21 21:31:28               1224.0                     1224.0000   \n",
       "15694 2019-05-01 21:14:27                744.0                      742.4834   \n",
       "15695 2019-05-09 20:39:05                935.0                      935.0000   \n",
       "15708 2019-04-16 14:30:22                376.0                      376.0000   \n",
       "15709 2019-05-23 22:37:23               1272.0                      928.1334   \n",
       "\n",
       "       processing_time_in_hours          sla_due_at  number_of_sends  \\\n",
       "6                           NaN 2019-01-13 16:00:23              1.0   \n",
       "7                        0.0500 2019-02-08 15:00:24              1.0   \n",
       "8                        0.1000 2019-01-29 20:00:26              2.0   \n",
       "9                        0.0500 2019-01-14 15:00:27              2.0   \n",
       "15                       0.0166 2019-01-18 08:00:23              1.0   \n",
       "...                         ...                 ...              ...   \n",
       "15693                    0.1333 2019-04-17 21:00:47              2.0   \n",
       "15694                    0.0666 2019-04-17 22:00:48              1.0   \n",
       "15695                    0.0166 2019-04-17 21:00:50              1.0   \n",
       "15708                       NaN 2019-04-13 12:00:44              1.0   \n",
       "15709                    0.2000 2019-05-02 05:00:45              3.0   \n",
       "\n",
       "      sending_method       financial_institution_division parent_institution  \\\n",
       "6          aton_sent                Credential Securities         Credential   \n",
       "7          aton_sent                Credential Securities         Credential   \n",
       "8          aton_sent                Credential Securities         Credential   \n",
       "9          aton_sent                Credential Securities         Credential   \n",
       "15          fax_sent                                 HSBC               HSBC   \n",
       "...              ...                                  ...                ...   \n",
       "15693       fax_sent                      Great West Life    Great West Life   \n",
       "15694       fax_sent             CIBC Branch / Securities               CIBC   \n",
       "15695       fax_sent  BMO Mutual Funds / Term Investments   Bank of Montreal   \n",
       "15708      aton_sent                            Questrade          Questrade   \n",
       "15709       fax_sent   Manulife Group Retirement Services           Manulife   \n",
       "\n",
       "       sla_breached  \n",
       "6              True  \n",
       "7              True  \n",
       "8              True  \n",
       "9              True  \n",
       "15             True  \n",
       "...             ...  \n",
       "15693          True  \n",
       "15694          True  \n",
       "15695          True  \n",
       "15708          True  \n",
       "15709          True  \n",
       "\n",
       "[2888 rows x 19 columns]"
      ]
     },
     "execution_count": 22,
     "metadata": {},
     "output_type": "execute_result"
    }
   ],
   "source": [
    "ws_data[ws_data['sla_breached']==True]"
   ]
  },
  {
   "cell_type": "markdown",
   "metadata": {},
   "source": [
    "### 2800+ time WS breached SLA. Requires further investigation."
   ]
  },
  {
   "cell_type": "code",
   "execution_count": null,
   "metadata": {},
   "outputs": [],
   "source": []
  }
 ],
 "metadata": {
  "kernelspec": {
   "display_name": "Python 3",
   "language": "python",
   "name": "python3"
  },
  "language_info": {
   "codemirror_mode": {
    "name": "ipython",
    "version": 3
   },
   "file_extension": ".py",
   "mimetype": "text/x-python",
   "name": "python",
   "nbconvert_exporter": "python",
   "pygments_lexer": "ipython3",
   "version": "3.8.5"
  }
 },
 "nbformat": 4,
 "nbformat_minor": 4
}
